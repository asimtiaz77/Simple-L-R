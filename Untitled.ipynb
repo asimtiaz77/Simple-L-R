{
 "cells": [
  {
   "cell_type": "code",
   "execution_count": 2,
   "id": "fb539273",
   "metadata": {},
   "outputs": [
    {
     "name": "stdout",
     "output_type": "stream",
     "text": [
      "Regression Coefficients:\n",
      "Slope (m): 0.5221052631578948\n",
      "Intercept (b): -971.5305263157896\n",
      "Enter a new x value for prediction: 6\n",
      "Predicted y value: -968.3978947368423\n"
     ]
    }
   ],
   "source": [
    "# Calculate mean\n",
    "def calculate_mean(data):\n",
    "    return sum(data) / len(data)\n",
    "\n",
    "# Calculate regression coefficients\n",
    "def calculate_regression_coefficients(data_points):\n",
    "    x = [i[0] for i in data_points]\n",
    "    y = [i[1] for i in data_points]\n",
    "    \n",
    "    x_mean = calculate_mean(x)\n",
    "    y_mean = calculate_mean(y)\n",
    "    \n",
    "    m = sum((xi - x_mean) * (yi - y_mean) for xi, yi in data_points) / sum((xi - x_mean)**2 for xi in x)\n",
    "    b = y_mean - m * x_mean\n",
    "    \n",
    "    return m, b\n",
    "\n",
    "# Predictions\n",
    "def make_predictions(x, slope, intercept):\n",
    "    return slope * x + intercept\n",
    "\n",
    "# Given data\n",
    "data_points = [\n",
    "    (2000, 72.5),\n",
    "    (2001, 73.1),\n",
    "    (2002, 73.8),\n",
    "    (2003, 74.2),\n",
    "    (2004, 74.7),\n",
    "    (2005, 75.3),\n",
    "    (2006, 75.9),\n",
    "    (2007, 76.5),\n",
    "    (2008, 76.9),\n",
    "    (2009, 77.4),\n",
    "    (2010, 78.0),\n",
    "    (2011, 78.5),\n",
    "    (2012, 79.0),\n",
    "    (2013, 79.5),\n",
    "    (2014, 80.0),\n",
    "    (2015, 80.5),\n",
    "    (2016, 81.0),\n",
    "    (2017, 81.5),\n",
    "    (2018, 82.0),\n",
    "    (2019, 82.5)\n",
    "]\n",
    "\n",
    "slope, intercept = calculate_regression_coefficients(data_points)\n",
    "\n",
    "print(\"Regression Coefficients:\")\n",
    "print(\"Slope (m):\", slope)\n",
    "print(\"Intercept (b):\", intercept)\n",
    "\n",
    "x_value = float(input(\"Enter a new x value for prediction: \"))\n",
    "predicted_y_value = make_predictions(x_value, slope, intercept)\n",
    "\n",
    "print(\"Predicted y value:\", predicted_y_value)"
   ]
  },
  {
   "cell_type": "code",
   "execution_count": null,
   "id": "299b33d1",
   "metadata": {},
   "outputs": [],
   "source": []
  }
 ],
 "metadata": {
  "kernelspec": {
   "display_name": "Python 3 (ipykernel)",
   "language": "python",
   "name": "python3"
  },
  "language_info": {
   "codemirror_mode": {
    "name": "ipython",
    "version": 3
   },
   "file_extension": ".py",
   "mimetype": "text/x-python",
   "name": "python",
   "nbconvert_exporter": "python",
   "pygments_lexer": "ipython3",
   "version": "3.11.5"
  }
 },
 "nbformat": 4,
 "nbformat_minor": 5
}
